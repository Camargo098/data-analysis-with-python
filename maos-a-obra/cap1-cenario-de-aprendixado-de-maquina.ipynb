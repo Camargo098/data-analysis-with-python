{
 "cells": [
  {
   "cell_type": "markdown",
   "id": "9dd4a713",
   "metadata": {},
   "source": [
    "**O que é aprendizado de máquina?**\n",
    "\n",
    "*Campo de estudo que possibilita aos computadores a habilidade de aprender sem explicitamente programa-los. - Arthur Samuel*\n",
    "\n",
    "*Alega-se que um programa de computadores aprende pela experiência E em relação a algum tipo de tarefa T e alguma medida de desempenho P e se o seu desempenho em T, conforme medido por P, melhora com a experiência E. - Tom Michaell*\n",
    "\n",
    "\n",
    "**Tipos de Sitemas de Aprendizadso de Máquinas**\n",
    "\n",
    "\n",
    "Os tipos de sitemas podem ser classificados conforme as seguintes caracteristicas: \n",
    "* Serem ou não treinados com a supervisão humana.\n",
    "* Se podem ou não aprenderem de forma gradativamente em tempo real.\n",
    "* Se funcionam simplesmente comparando novos pontos de dados com pontos conhecidos ou se detectam padrões em dados de treinamento e criam modelos preditivos"
   ]
  },
  {
   "cell_type": "markdown",
   "id": "baf140ed",
   "metadata": {},
   "source": [
    "**Aprendizado Supervisionado**\n",
    "\n",
    "Nesse tipo de aprendizado, o rotulo alvo é fornecdio juntamente com os dados de treinamento.\n",
    "\n",
    "**Aprendizado não supervisionado**\n",
    "Nele os dados não possuem um rótulo e o sistema tenta aprender identificando padrões."
   ]
  },
  {
   "cell_type": "markdown",
   "id": "f8888951",
   "metadata": {},
   "source": [
    "\n",
    "**Sobreajuste:** é quando o modelo aprende demais com o conjuto de treinamento, captando até mesmo os ruídos dos dados.\n",
    "\n",
    "**Subajuste:** ocorre quando o modelo é muito simples para o problema"
   ]
  },
  {
   "cell_type": "markdown",
   "id": "25c81922",
   "metadata": {},
   "source": []
  }
 ],
 "metadata": {
  "kernelspec": {
   "display_name": ".venv",
   "language": "python",
   "name": "python3"
  },
  "language_info": {
   "name": "python",
   "version": "3.12.3"
  }
 },
 "nbformat": 4,
 "nbformat_minor": 5
}
