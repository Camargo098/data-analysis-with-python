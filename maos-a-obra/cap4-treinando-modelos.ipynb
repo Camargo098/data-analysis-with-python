{
 "cells": [
  {
   "cell_type": "markdown",
   "id": "c69fe3bf",
   "metadata": {},
   "source": [
    "#### Regressão Linear ####\n",
    "\n",
    "Em termos gerais, um modelo de regressão linear faz uma predição simples calculando uma soma ponderada das caracteristicas de entrada, além de uma constante chamada *bia* (intercepto e coefiente linear).\n",
    "\n",
    "$$\n",
    "\\hat y = \\theta_0 + \\theta_1 x_1 \\text{ ... } \\theta_n x_n\n",
    "$$\n",
    "\n",
    "onde:\n",
    "\n",
    "* $\\hat y$ é o valor previsto.\n",
    "* $n$ é o número das caracteristicas.\n",
    "* $x_i$ é o número da i-ésima caracteristica.\n",
    "\n",
    "\n",
    "*Treinar um modelo é nada mais que definir parâmetros para que esse modelo se ajuste melhor ao conjunto de treinamento."
   ]
  },
  {
   "cell_type": "code",
   "execution_count": 1,
   "id": "cbdce898",
   "metadata": {},
   "outputs": [],
   "source": [
    "import numpy as np\n",
    "X = 2 * np.random.rand(100, 1)\n",
    "y = 4 + 3 * X + np.random.randn(100,1)"
   ]
  },
  {
   "cell_type": "code",
   "execution_count": 3,
   "id": "3f343097",
   "metadata": {},
   "outputs": [],
   "source": [
    "X_b = np.c_[np.ones((100, 1)), X]\n",
    "theta_best = np.linalg.inv(X_b.T.dot(X_b)).dot(X_b.T).dot(y)"
   ]
  },
  {
   "cell_type": "code",
   "execution_count": 4,
   "id": "5fb7bfc8",
   "metadata": {},
   "outputs": [
    {
     "data": {
      "text/plain": [
       "array([[3.74192224],\n",
       "       [3.25469273]])"
      ]
     },
     "execution_count": 4,
     "metadata": {},
     "output_type": "execute_result"
    }
   ],
   "source": [
    "theta_best"
   ]
  }
 ],
 "metadata": {
  "kernelspec": {
   "display_name": ".venv",
   "language": "python",
   "name": "python3"
  },
  "language_info": {
   "codemirror_mode": {
    "name": "ipython",
    "version": 3
   },
   "file_extension": ".py",
   "mimetype": "text/x-python",
   "name": "python",
   "nbconvert_exporter": "python",
   "pygments_lexer": "ipython3",
   "version": "3.12.3"
  }
 },
 "nbformat": 4,
 "nbformat_minor": 5
}
